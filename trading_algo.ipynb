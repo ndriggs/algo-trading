{
 "cells": [
  {
   "cell_type": "code",
   "execution_count": 23,
   "metadata": {},
   "outputs": [],
   "source": [
    "import alpaca_trade_api as tradeapi\n",
    "import numpy as np\n",
    "from scipy import optimize as opt\n",
    "import pandas as pd\n",
    "from pandas_datareader.famafrench import get_available_datasets\n",
    "import pandas_datareader.data as web\n",
    "from sklearn.linear_model import LinearRegression\n",
    "import datetime \n",
    "import workdays as wkdy"
   ]
  },
  {
   "cell_type": "code",
   "execution_count": 2,
   "metadata": {},
   "outputs": [],
   "source": [
    "with open(\"keys.txt\") as keys_file :\n",
    "    GENERAL_API_KEY = keys_file.readline().strip()\n",
    "    SECRET_API_KEY = keys_file.readline().strip()\n",
    "ALPACA_URL_BASE  = \"https://paper-api.alpaca.markets\"\n",
    "ALPACA_DATA_URL_BASE = \"https://data.alpaca.markets/v1\""
   ]
  },
  {
   "cell_type": "code",
   "execution_count": 3,
   "metadata": {},
   "outputs": [],
   "source": [
    "api  = tradeapi.REST(GENERAL_API_KEY, SECRET_API_KEY, ALPACA_URL_BASE, api_version = 'v2')\n",
    "account = api.get_account()"
   ]
  },
  {
   "cell_type": "code",
   "execution_count": 4,
   "metadata": {},
   "outputs": [],
   "source": [
    "#use get_available_datasets() to see all the different Fama French datasets available\n",
    "ff5 = web.DataReader('F-F_Research_Data_5_Factors_2x3_daily', 'famafrench')\n",
    "ff5 = ff5[0][::-1] #change it from a dict to a dataframe and then change it \n",
    "                   #so it's from newest to oldest\n",
    "ff5.reset_index(inplace=True)"
   ]
  },
  {
   "cell_type": "code",
   "execution_count": 5,
   "metadata": {},
   "outputs": [
    {
     "data": {
      "text/html": [
       "<div>\n",
       "<style scoped>\n",
       "    .dataframe tbody tr th:only-of-type {\n",
       "        vertical-align: middle;\n",
       "    }\n",
       "\n",
       "    .dataframe tbody tr th {\n",
       "        vertical-align: top;\n",
       "    }\n",
       "\n",
       "    .dataframe thead th {\n",
       "        text-align: right;\n",
       "    }\n",
       "</style>\n",
       "<table border=\"1\" class=\"dataframe\">\n",
       "  <thead>\n",
       "    <tr style=\"text-align: right;\">\n",
       "      <th></th>\n",
       "      <th>Date</th>\n",
       "      <th>Mkt-RF</th>\n",
       "      <th>SMB</th>\n",
       "      <th>HML</th>\n",
       "      <th>RMW</th>\n",
       "      <th>CMA</th>\n",
       "      <th>RF</th>\n",
       "    </tr>\n",
       "  </thead>\n",
       "  <tbody>\n",
       "    <tr>\n",
       "      <th>0</th>\n",
       "      <td>2020-02-28</td>\n",
       "      <td>-0.78</td>\n",
       "      <td>0.06</td>\n",
       "      <td>-0.78</td>\n",
       "      <td>0.32</td>\n",
       "      <td>-0.41</td>\n",
       "      <td>0.006</td>\n",
       "    </tr>\n",
       "    <tr>\n",
       "      <th>1</th>\n",
       "      <td>2020-02-27</td>\n",
       "      <td>-4.22</td>\n",
       "      <td>0.69</td>\n",
       "      <td>0.14</td>\n",
       "      <td>-0.35</td>\n",
       "      <td>-0.09</td>\n",
       "      <td>0.006</td>\n",
       "    </tr>\n",
       "    <tr>\n",
       "      <th>2</th>\n",
       "      <td>2020-02-26</td>\n",
       "      <td>-0.52</td>\n",
       "      <td>-0.79</td>\n",
       "      <td>-1.26</td>\n",
       "      <td>-0.52</td>\n",
       "      <td>-0.12</td>\n",
       "      <td>0.006</td>\n",
       "    </tr>\n",
       "    <tr>\n",
       "      <th>3</th>\n",
       "      <td>2020-02-25</td>\n",
       "      <td>-3.09</td>\n",
       "      <td>-0.34</td>\n",
       "      <td>-0.72</td>\n",
       "      <td>-0.63</td>\n",
       "      <td>0.03</td>\n",
       "      <td>0.006</td>\n",
       "    </tr>\n",
       "    <tr>\n",
       "      <th>4</th>\n",
       "      <td>2020-02-24</td>\n",
       "      <td>-3.38</td>\n",
       "      <td>0.15</td>\n",
       "      <td>-0.04</td>\n",
       "      <td>-0.37</td>\n",
       "      <td>0.20</td>\n",
       "      <td>0.006</td>\n",
       "    </tr>\n",
       "    <tr>\n",
       "      <th>...</th>\n",
       "      <td>...</td>\n",
       "      <td>...</td>\n",
       "      <td>...</td>\n",
       "      <td>...</td>\n",
       "      <td>...</td>\n",
       "      <td>...</td>\n",
       "      <td>...</td>\n",
       "    </tr>\n",
       "    <tr>\n",
       "      <th>1230</th>\n",
       "      <td>2015-04-10</td>\n",
       "      <td>0.49</td>\n",
       "      <td>-0.15</td>\n",
       "      <td>-0.28</td>\n",
       "      <td>-0.48</td>\n",
       "      <td>0.20</td>\n",
       "      <td>0.000</td>\n",
       "    </tr>\n",
       "    <tr>\n",
       "      <th>1231</th>\n",
       "      <td>2015-04-09</td>\n",
       "      <td>0.41</td>\n",
       "      <td>-0.71</td>\n",
       "      <td>-0.06</td>\n",
       "      <td>-0.27</td>\n",
       "      <td>0.15</td>\n",
       "      <td>0.000</td>\n",
       "    </tr>\n",
       "    <tr>\n",
       "      <th>1232</th>\n",
       "      <td>2015-04-08</td>\n",
       "      <td>0.37</td>\n",
       "      <td>0.47</td>\n",
       "      <td>-0.72</td>\n",
       "      <td>-0.07</td>\n",
       "      <td>-0.28</td>\n",
       "      <td>0.000</td>\n",
       "    </tr>\n",
       "    <tr>\n",
       "      <th>1233</th>\n",
       "      <td>2015-04-07</td>\n",
       "      <td>-0.22</td>\n",
       "      <td>-0.20</td>\n",
       "      <td>-0.16</td>\n",
       "      <td>-0.18</td>\n",
       "      <td>-0.23</td>\n",
       "      <td>0.000</td>\n",
       "    </tr>\n",
       "    <tr>\n",
       "      <th>1234</th>\n",
       "      <td>2015-04-06</td>\n",
       "      <td>0.61</td>\n",
       "      <td>-0.28</td>\n",
       "      <td>-0.15</td>\n",
       "      <td>0.22</td>\n",
       "      <td>-0.22</td>\n",
       "      <td>0.000</td>\n",
       "    </tr>\n",
       "  </tbody>\n",
       "</table>\n",
       "<p>1235 rows × 7 columns</p>\n",
       "</div>"
      ],
      "text/plain": [
       "           Date  Mkt-RF   SMB   HML   RMW   CMA     RF\n",
       "0    2020-02-28   -0.78  0.06 -0.78  0.32 -0.41  0.006\n",
       "1    2020-02-27   -4.22  0.69  0.14 -0.35 -0.09  0.006\n",
       "2    2020-02-26   -0.52 -0.79 -1.26 -0.52 -0.12  0.006\n",
       "3    2020-02-25   -3.09 -0.34 -0.72 -0.63  0.03  0.006\n",
       "4    2020-02-24   -3.38  0.15 -0.04 -0.37  0.20  0.006\n",
       "...         ...     ...   ...   ...   ...   ...    ...\n",
       "1230 2015-04-10    0.49 -0.15 -0.28 -0.48  0.20  0.000\n",
       "1231 2015-04-09    0.41 -0.71 -0.06 -0.27  0.15  0.000\n",
       "1232 2015-04-08    0.37  0.47 -0.72 -0.07 -0.28  0.000\n",
       "1233 2015-04-07   -0.22 -0.20 -0.16 -0.18 -0.23  0.000\n",
       "1234 2015-04-06    0.61 -0.28 -0.15  0.22 -0.22  0.000\n",
       "\n",
       "[1235 rows x 7 columns]"
      ]
     },
     "execution_count": 5,
     "metadata": {},
     "output_type": "execute_result"
    }
   ],
   "source": [
    "ff5"
   ]
  },
  {
   "cell_type": "code",
   "execution_count": 80,
   "metadata": {},
   "outputs": [],
   "source": [
    "stocks = ['LHO','NVDA','VKTX','COG','KO']"
   ]
  },
  {
   "cell_type": "code",
   "execution_count": 81,
   "metadata": {},
   "outputs": [],
   "source": [
    "days_of_data = 900\n",
    "data = api.get_barset(stocks,'day',limit=days_of_data)"
   ]
  },
  {
   "cell_type": "code",
   "execution_count": 95,
   "metadata": {},
   "outputs": [],
   "source": [
    "dailyreturns = pd.DataFrame()\n",
    "for tkr in stocks :\n",
    "    dailyreturns_col = []\n",
    "    for day in range(days_of_data - 1, -1, -1) :\n",
    "        dailyreturns_col.append((data[tkr][day].c - \n",
    "                             data[tkr][day].o - ff5['RF'][day])/\n",
    "                             data[tkr][day].o)   \n",
    "    dailyreturns[tkr] = dailyreturns_col"
   ]
  },
  {
   "cell_type": "code",
   "execution_count": null,
   "metadata": {},
   "outputs": [],
   "source": []
  },
  {
   "cell_type": "code",
   "execution_count": 97,
   "metadata": {},
   "outputs": [],
   "source": [
    "#calculate the days between now and the fama french data\n",
    "today = datetime.date.today()\n",
    "ff5end_date = ff5['Date'][0]\n",
    "presidentsday = [datetime.date(2020, 2, 17)]\n",
    "days_offset = wkdy.networkdays(ff5end_date.date(), today, presidentsday)"
   ]
  },
  {
   "cell_type": "code",
   "execution_count": null,
   "metadata": {},
   "outputs": [],
   "source": []
  },
  {
   "cell_type": "code",
   "execution_count": 62,
   "metadata": {},
   "outputs": [],
   "source": [
    "#data['STOCK'][index].letter\n",
    "num_data = days_of_data-days_offset\n",
    "X = pd.DataFrame(ff5[['Mkt-RF','SMB','HML','RMW','CMA']][0:num_data], columns=['Mkt-RF','SMB','HML','RMW','CMA'])\n",
    "##NEXT UP - change it so you don't just regress it for one stock but iterate through for all stocks!\n",
    "returns = pd.DataFrame(dailyreturns[days_offset:], columns=[\"Returns\"])\n",
    "y = returns[\"Returns\"]"
   ]
  },
  {
   "cell_type": "code",
   "execution_count": 63,
   "metadata": {},
   "outputs": [],
   "source": [
    "model = LinearRegression().fit(X, y)\n",
    "betas = model.coef_"
   ]
  },
  {
   "cell_type": "code",
   "execution_count": 69,
   "metadata": {},
   "outputs": [
    {
     "data": {
      "text/plain": [
       "array([1.     , 0.99995, 0.9999 , ..., 0.9384 , 0.93835, 0.9383 ])"
      ]
     },
     "execution_count": 69,
     "metadata": {},
     "output_type": "execute_result"
    }
   ],
   "source": [
    "\n",
    "weights = np.ones(len(ff5))\n",
    "i = 1\n",
    "for j in range(len(ff5)) :\n",
    "    weights[j] *= i\n",
    "    i -= .00005\n",
    "weights"
   ]
  },
  {
   "cell_type": "code",
   "execution_count": 78,
   "metadata": {},
   "outputs": [],
   "source": [
    "factors = ['Mkt-RF','SMB','HML','RMW','CMA']\n",
    "premiums = []\n",
    "for fact in factors :\n",
    "    av = np.average(ff5[fact])\n",
    "    premiums.append(av)"
   ]
  },
  {
   "cell_type": "code",
   "execution_count": 3,
   "metadata": {},
   "outputs": [],
   "source": [
    "#c of objective funct\n",
    "#A_ub and b_ub\n",
    "num_assets = 5\n",
    "elem_vect = np.ones(num_assets)\n",
    "#solution = opt.linprog(A_eq = elem_vect, b_eq = np.ones(1))"
   ]
  },
  {
   "cell_type": "code",
   "execution_count": null,
   "metadata": {},
   "outputs": [],
   "source": []
  },
  {
   "cell_type": "code",
   "execution_count": null,
   "metadata": {},
   "outputs": [],
   "source": [
    "clock = api.get_clock()\n",
    "if clock.is_open :\n",
    "    #trade away! "
   ]
  },
  {
   "cell_type": "code",
   "execution_count": 11,
   "metadata": {},
   "outputs": [
    {
     "data": {
      "text/plain": [
       "{'AAPL': [Bar({   'c': 271.145,\n",
       "      'h': 271.38,\n",
       "      'l': 270.29,\n",
       "      'o': 270.41,\n",
       "      't': 1582923300,\n",
       "      'v': 3548}),\n",
       "  Bar({'c': 270.59, 'h': 271.5, 'l': 270.43, 'o': 271.07, 't': 1582923360, 'v': 6237}),\n",
       "  Bar({'c': 270.93, 'h': 271, 'l': 270.38, 'o': 270.785, 't': 1582923420, 'v': 5854}),\n",
       "  Bar({   'c': 272.22,\n",
       "      'h': 272.375,\n",
       "      'l': 271.08,\n",
       "      'o': 271.08,\n",
       "      't': 1582923480,\n",
       "      'v': 8158}),\n",
       "  Bar({   'c': 273.63,\n",
       "      'h': 273.74,\n",
       "      'l': 272.41,\n",
       "      'o': 272.41,\n",
       "      't': 1582923540,\n",
       "      'v': 13792})],\n",
       " 'NVDA': [Bar({'c': 266.38, 'h': 266.41, 'l': 265.73, 'o': 265.76, 't': 1582923300, 'v': 3042}),\n",
       "  Bar({   'c': 266.275,\n",
       "      'h': 266.59,\n",
       "      'l': 265.97,\n",
       "      'o': 266.27,\n",
       "      't': 1582923360,\n",
       "      'v': 2675}),\n",
       "  Bar({'c': 266.84, 'h': 266.87, 'l': 266.21, 'o': 266.21, 't': 1582923420, 'v': 2652}),\n",
       "  Bar({'c': 267.68, 'h': 267.68, 'l': 266.85, 'o': 266.85, 't': 1582923480, 'v': 2415}),\n",
       "  Bar({   'c': 270.13,\n",
       "      'h': 270.13,\n",
       "      'l': 267.965,\n",
       "      'o': 267.975,\n",
       "      't': 1582923540,\n",
       "      'v': 15182})],\n",
       " 'SHOP': [Bar({'c': 457.44, 'h': 457.485, 'l': 456.96, 'o': 457.05, 't': 1582923300, 'v': 303}),\n",
       "  Bar({'c': 458, 'h': 458, 'l': 457.145, 'o': 457.47, 't': 1582923360, 'v': 862}),\n",
       "  Bar({'c': 459.06, 'h': 459.06, 'l': 457.52, 'o': 457.69, 't': 1582923420, 'v': 989}),\n",
       "  Bar({'c': 460.84, 'h': 460.84, 'l': 459.62, 'o': 459.62, 't': 1582923480, 'v': 1100}),\n",
       "  Bar({'c': 462.41, 'h': 462.65, 'l': 461.17, 'o': 461.17, 't': 1582923540, 'v': 605})]}"
      ]
     },
     "execution_count": 11,
     "metadata": {},
     "output_type": "execute_result"
    }
   ],
   "source": [
    "data"
   ]
  },
  {
   "cell_type": "code",
   "execution_count": null,
   "metadata": {},
   "outputs": [],
   "source": []
  },
  {
   "cell_type": "code",
   "execution_count": 7,
   "metadata": {},
   "outputs": [
    {
     "data": {
      "text/plain": [
       "{0:             Mkt-RF   SMB   HML   RMW   CMA     RF\n",
       " Date                                             \n",
       " 2015-03-09    0.37  0.09 -0.02  0.26 -0.03  0.000\n",
       " 2015-03-10   -1.63  0.43 -0.47  0.09 -0.14  0.000\n",
       " 2015-03-11   -0.04  0.62  0.52 -0.47 -0.03  0.000\n",
       " 2015-03-12    1.28  0.40  0.50 -0.06  0.23  0.000\n",
       " 2015-03-13   -0.57  0.19 -0.04 -0.10 -0.13  0.000\n",
       " ...            ...   ...   ...   ...   ...    ...\n",
       " 2020-01-27   -1.56  0.27 -0.48 -0.59  0.05  0.006\n",
       " 2020-01-28    1.02 -0.15 -0.42  0.17 -0.10  0.006\n",
       " 2020-01-29   -0.10 -0.44 -0.95  0.25  0.19  0.006\n",
       " 2020-01-30    0.34 -0.64  0.67 -0.39 -0.11  0.006\n",
       " 2020-01-31   -1.74 -0.52 -0.34 -0.54 -0.69  0.006\n",
       " \n",
       " [1235 rows x 6 columns],\n",
       " 'DESCR': 'F-F Research Data 5 Factors 2x3 daily\\n-------------------------------------\\n\\nThis file was created by CMPT_ME_BEME_OP_INV_RETS_DAILY using the 202001 CRSP database. The 1-month TBill return is from Ibbotson and Associates, Inc.\\n\\n  0 : (1235 rows x 6 cols)'}"
      ]
     },
     "execution_count": 7,
     "metadata": {},
     "output_type": "execute_result"
    }
   ],
   "source": [
    "ff5"
   ]
  },
  {
   "cell_type": "code",
   "execution_count": null,
   "metadata": {},
   "outputs": [],
   "source": []
  },
  {
   "cell_type": "code",
   "execution_count": null,
   "metadata": {},
   "outputs": [],
   "source": []
  }
 ],
 "metadata": {
  "kernelspec": {
   "display_name": "Python 3",
   "language": "python",
   "name": "python3"
  },
  "language_info": {
   "codemirror_mode": {
    "name": "ipython",
    "version": 3
   },
   "file_extension": ".py",
   "mimetype": "text/x-python",
   "name": "python",
   "nbconvert_exporter": "python",
   "pygments_lexer": "ipython3",
   "version": "3.6.9"
  }
 },
 "nbformat": 4,
 "nbformat_minor": 4
}
