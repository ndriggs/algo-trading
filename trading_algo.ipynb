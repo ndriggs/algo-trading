{
 "cells": [
  {
   "cell_type": "code",
   "execution_count": 7,
   "metadata": {},
   "outputs": [],
   "source": [
    "import alpaca_trade_api as tradeapi\n",
    "import numpy as np\n",
    "from scipy import optimize as opt\n",
    "import pandas as pd\n",
    "from pandas_datareader.famafrench import get_available_datasets\n",
    "import pandas_datareader.data as web\n",
    "from bs4 import BeautifulSoup\n",
    "import requests\n",
    "from sklearn.linear_model import LinearRegression\n",
    "import datetime \n",
    "import workdays as wkdy"
   ]
  },
  {
   "cell_type": "code",
   "execution_count": 16,
   "metadata": {},
   "outputs": [],
   "source": [
    "with open(\"keys.txt\") as keys_file :\n",
    "    GENERAL_API_KEY = keys_file.readline().strip()\n",
    "    SECRET_API_KEY = keys_file.readline().strip()\n",
    "ALPACA_URL_BASE  = \"https://paper-api.alpaca.markets\"\n",
    "ALPACA_DATA_URL_BASE = \"https://data.alpaca.markets/v1\""
   ]
  },
  {
   "cell_type": "code",
   "execution_count": 17,
   "metadata": {},
   "outputs": [],
   "source": [
    "api  = tradeapi.REST(GENERAL_API_KEY, SECRET_API_KEY, ALPACA_URL_BASE, api_version = 'v2')\n",
    "account = api.get_account()"
   ]
  },
  {
   "cell_type": "code",
   "execution_count": 18,
   "metadata": {},
   "outputs": [],
   "source": [
    "#use get_available_datasets() to see all the different Fama French datasets available\n",
    "ff5 = web.DataReader('F-F_Research_Data_5_Factors_2x3_daily', 'famafrench')\n",
    "ff5 = ff5[0][::-1] #change it from a dict to a dataframe and then change it \n",
    "                   #so it's from newest to oldest\n",
    "ff5.reset_index(inplace=True)"
   ]
  },
  {
   "cell_type": "code",
   "execution_count": 3,
   "metadata": {},
   "outputs": [
    {
     "data": {
      "text/html": [
       "<div>\n",
       "<style scoped>\n",
       "    .dataframe tbody tr th:only-of-type {\n",
       "        vertical-align: middle;\n",
       "    }\n",
       "\n",
       "    .dataframe tbody tr th {\n",
       "        vertical-align: top;\n",
       "    }\n",
       "\n",
       "    .dataframe thead th {\n",
       "        text-align: right;\n",
       "    }\n",
       "</style>\n",
       "<table border=\"1\" class=\"dataframe\">\n",
       "  <thead>\n",
       "    <tr style=\"text-align: right;\">\n",
       "      <th></th>\n",
       "      <th>Date</th>\n",
       "      <th>Mkt-RF</th>\n",
       "      <th>SMB</th>\n",
       "      <th>HML</th>\n",
       "      <th>RMW</th>\n",
       "      <th>CMA</th>\n",
       "      <th>RF</th>\n",
       "    </tr>\n",
       "  </thead>\n",
       "  <tbody>\n",
       "    <tr>\n",
       "      <th>0</th>\n",
       "      <td>2020-02-28</td>\n",
       "      <td>-0.78</td>\n",
       "      <td>0.06</td>\n",
       "      <td>-0.78</td>\n",
       "      <td>0.32</td>\n",
       "      <td>-0.41</td>\n",
       "      <td>0.006</td>\n",
       "    </tr>\n",
       "    <tr>\n",
       "      <th>1</th>\n",
       "      <td>2020-02-27</td>\n",
       "      <td>-4.22</td>\n",
       "      <td>0.69</td>\n",
       "      <td>0.14</td>\n",
       "      <td>-0.35</td>\n",
       "      <td>-0.09</td>\n",
       "      <td>0.006</td>\n",
       "    </tr>\n",
       "    <tr>\n",
       "      <th>2</th>\n",
       "      <td>2020-02-26</td>\n",
       "      <td>-0.52</td>\n",
       "      <td>-0.79</td>\n",
       "      <td>-1.26</td>\n",
       "      <td>-0.52</td>\n",
       "      <td>-0.12</td>\n",
       "      <td>0.006</td>\n",
       "    </tr>\n",
       "    <tr>\n",
       "      <th>3</th>\n",
       "      <td>2020-02-25</td>\n",
       "      <td>-3.09</td>\n",
       "      <td>-0.34</td>\n",
       "      <td>-0.72</td>\n",
       "      <td>-0.63</td>\n",
       "      <td>0.03</td>\n",
       "      <td>0.006</td>\n",
       "    </tr>\n",
       "    <tr>\n",
       "      <th>4</th>\n",
       "      <td>2020-02-24</td>\n",
       "      <td>-3.38</td>\n",
       "      <td>0.15</td>\n",
       "      <td>-0.04</td>\n",
       "      <td>-0.37</td>\n",
       "      <td>0.20</td>\n",
       "      <td>0.006</td>\n",
       "    </tr>\n",
       "    <tr>\n",
       "      <th>...</th>\n",
       "      <td>...</td>\n",
       "      <td>...</td>\n",
       "      <td>...</td>\n",
       "      <td>...</td>\n",
       "      <td>...</td>\n",
       "      <td>...</td>\n",
       "      <td>...</td>\n",
       "    </tr>\n",
       "    <tr>\n",
       "      <th>1227</th>\n",
       "      <td>2015-04-15</td>\n",
       "      <td>0.57</td>\n",
       "      <td>0.27</td>\n",
       "      <td>0.32</td>\n",
       "      <td>-0.19</td>\n",
       "      <td>-0.07</td>\n",
       "      <td>0.000</td>\n",
       "    </tr>\n",
       "    <tr>\n",
       "      <th>1228</th>\n",
       "      <td>2015-04-14</td>\n",
       "      <td>0.11</td>\n",
       "      <td>-0.13</td>\n",
       "      <td>0.19</td>\n",
       "      <td>0.09</td>\n",
       "      <td>0.09</td>\n",
       "      <td>0.000</td>\n",
       "    </tr>\n",
       "    <tr>\n",
       "      <th>1229</th>\n",
       "      <td>2015-04-13</td>\n",
       "      <td>-0.38</td>\n",
       "      <td>0.55</td>\n",
       "      <td>0.23</td>\n",
       "      <td>-0.15</td>\n",
       "      <td>-0.13</td>\n",
       "      <td>0.000</td>\n",
       "    </tr>\n",
       "    <tr>\n",
       "      <th>1230</th>\n",
       "      <td>2015-04-10</td>\n",
       "      <td>0.49</td>\n",
       "      <td>-0.15</td>\n",
       "      <td>-0.28</td>\n",
       "      <td>-0.48</td>\n",
       "      <td>0.20</td>\n",
       "      <td>0.000</td>\n",
       "    </tr>\n",
       "    <tr>\n",
       "      <th>1231</th>\n",
       "      <td>2015-04-09</td>\n",
       "      <td>0.41</td>\n",
       "      <td>-0.71</td>\n",
       "      <td>-0.06</td>\n",
       "      <td>-0.27</td>\n",
       "      <td>0.15</td>\n",
       "      <td>0.000</td>\n",
       "    </tr>\n",
       "  </tbody>\n",
       "</table>\n",
       "<p>1232 rows × 7 columns</p>\n",
       "</div>"
      ],
      "text/plain": [
       "           Date  Mkt-RF   SMB   HML   RMW   CMA     RF\n",
       "0    2020-02-28   -0.78  0.06 -0.78  0.32 -0.41  0.006\n",
       "1    2020-02-27   -4.22  0.69  0.14 -0.35 -0.09  0.006\n",
       "2    2020-02-26   -0.52 -0.79 -1.26 -0.52 -0.12  0.006\n",
       "3    2020-02-25   -3.09 -0.34 -0.72 -0.63  0.03  0.006\n",
       "4    2020-02-24   -3.38  0.15 -0.04 -0.37  0.20  0.006\n",
       "...         ...     ...   ...   ...   ...   ...    ...\n",
       "1227 2015-04-15    0.57  0.27  0.32 -0.19 -0.07  0.000\n",
       "1228 2015-04-14    0.11 -0.13  0.19  0.09  0.09  0.000\n",
       "1229 2015-04-13   -0.38  0.55  0.23 -0.15 -0.13  0.000\n",
       "1230 2015-04-10    0.49 -0.15 -0.28 -0.48  0.20  0.000\n",
       "1231 2015-04-09    0.41 -0.71 -0.06 -0.27  0.15  0.000\n",
       "\n",
       "[1232 rows x 7 columns]"
      ]
     },
     "execution_count": 3,
     "metadata": {},
     "output_type": "execute_result"
    }
   ],
   "source": [
    "ff5"
   ]
  },
  {
   "cell_type": "code",
   "execution_count": 98,
   "metadata": {},
   "outputs": [],
   "source": [
    "# get sp500 tickers, code courtesy of Will Everett\n",
    "page = requests.get(\"https://en.wikipedia.org/wiki/List_of_S%26P_500_companies\")\n",
    "soup = BeautifulSoup(page.content, 'html.parser')\n",
    "sp500_tickers = [row.find('td').get_text().replace('\\n','')\n",
    "                 for row in soup.find('tbody').find_all('tr')[1:]]\n",
    "sp500_tickers.remove('BRK.B')\n",
    "sp500_tickers.remove('BF.B')\n",
    "sp500_tickers.remove('AMCR')\n",
    "sp500_tickers.remove('BKR')\n",
    "sp500_tickers.remove('CBRE')\n",
    "#sp500_tickers.remove('CPRI')\n",
    "#sp500_tickers.remove('CTVA')\n",
    "sp500_tickers.sort()"
   ]
  },
  {
   "cell_type": "code",
   "execution_count": 99,
   "metadata": {
    "scrolled": true
   },
   "outputs": [
    {
     "data": {
      "text/plain": [
       "500"
      ]
     },
     "execution_count": 99,
     "metadata": {},
     "output_type": "execute_result"
    }
   ],
   "source": [
    "len(sp500_tickers)"
   ]
  },
  {
   "cell_type": "code",
   "execution_count": 14,
   "metadata": {},
   "outputs": [],
   "source": [
    "#number of days between today and when the stock market got hit by COVID-19\n",
    "today = datetime.date.today()\n",
    "days_since_crash = wkdy.networkdays(datetime.date(2020, 2, 19), today)"
   ]
  },
  {
   "cell_type": "code",
   "execution_count": 101,
   "metadata": {},
   "outputs": [],
   "source": [
    "days_of_data = 1000\n",
    "open_close = pd.DataFrame()\n",
    "for i in range(0,500,100) :\n",
    "    data = api.get_barset(sp500_tickers[i:i+99],'day',limit=days_of_data)\n",
    "    for ticker in sp500_tickers[i:i+99] :\n",
    "        opin = []\n",
    "        close = []\n",
    "        for day in range(days_of_data - 1, -1, -1) :\n",
    "            try :\n",
    "                if (data[ticker][day].o == 0) :\n",
    "                    opin.append(np.nan)\n",
    "                else :\n",
    "                    opin.append(data[ticker][day].o)\n",
    "                close.append(data[ticker][day].c)\n",
    "            except :\n",
    "                opin.append(np.nan)\n",
    "                close.append(np.nan)\n",
    "        open_close[ticker + ' Open'] = opin\n",
    "        open_close[ticker + ' Close'] = close"
   ]
  },
  {
   "cell_type": "code",
   "execution_count": null,
   "metadata": {},
   "outputs": [],
   "source": []
  },
  {
   "cell_type": "code",
   "execution_count": null,
   "metadata": {},
   "outputs": [],
   "source": []
  },
  {
   "cell_type": "code",
   "execution_count": 41,
   "metadata": {},
   "outputs": [
    {
     "ename": "AttributeError",
     "evalue": "'BarSet' object has no attribute 'append'",
     "output_type": "error",
     "traceback": [
      "\u001b[0;31m---------------------------------------------------------------------------\u001b[0m",
      "\u001b[0;31mAttributeError\u001b[0m                            Traceback (most recent call last)",
      "\u001b[0;32m<ipython-input-41-79216c457659>\u001b[0m in \u001b[0;36m<module>\u001b[0;34m\u001b[0m\n\u001b[1;32m      1\u001b[0m \u001b[0mtest\u001b[0m \u001b[0;34m=\u001b[0m \u001b[0mapi\u001b[0m\u001b[0;34m.\u001b[0m\u001b[0mget_barset\u001b[0m\u001b[0;34m(\u001b[0m\u001b[0;34m'KO'\u001b[0m\u001b[0;34m,\u001b[0m\u001b[0;34m'day'\u001b[0m\u001b[0;34m,\u001b[0m\u001b[0mlimit\u001b[0m\u001b[0;34m=\u001b[0m\u001b[0;36m3\u001b[0m\u001b[0;34m)\u001b[0m\u001b[0;34m\u001b[0m\u001b[0;34m\u001b[0m\u001b[0m\n\u001b[1;32m      2\u001b[0m \u001b[0mtest2\u001b[0m \u001b[0;34m=\u001b[0m \u001b[0mapi\u001b[0m\u001b[0;34m.\u001b[0m\u001b[0mget_barset\u001b[0m\u001b[0;34m(\u001b[0m\u001b[0;34m'GOOG'\u001b[0m\u001b[0;34m,\u001b[0m\u001b[0;34m'day'\u001b[0m\u001b[0;34m,\u001b[0m\u001b[0mlimit\u001b[0m \u001b[0;34m=\u001b[0m \u001b[0;36m3\u001b[0m\u001b[0;34m)\u001b[0m\u001b[0;34m\u001b[0m\u001b[0;34m\u001b[0m\u001b[0m\n\u001b[0;32m----> 3\u001b[0;31m \u001b[0mtest\u001b[0m\u001b[0;34m.\u001b[0m\u001b[0mappend\u001b[0m\u001b[0;34m(\u001b[0m\u001b[0mtest2\u001b[0m\u001b[0;34m)\u001b[0m\u001b[0;34m\u001b[0m\u001b[0;34m\u001b[0m\u001b[0m\n\u001b[0m\u001b[1;32m      4\u001b[0m \u001b[0mtest\u001b[0m\u001b[0;34m\u001b[0m\u001b[0;34m\u001b[0m\u001b[0m\n",
      "\u001b[0;31mAttributeError\u001b[0m: 'BarSet' object has no attribute 'append'"
     ]
    }
   ],
   "source": [
    "test = api.get_barset('KO','day',limit=3)\n",
    "test2 = api.get_barset('GOOG','day',limit = 3)\n",
    "run = pd.DataFrame()\n"
   ]
  },
  {
   "cell_type": "code",
   "execution_count": 36,
   "metadata": {},
   "outputs": [
    {
     "ename": "IndexError",
     "evalue": "list index out of range",
     "output_type": "error",
     "traceback": [
      "\u001b[0;31m---------------------------------------------------------------------------\u001b[0m",
      "\u001b[0;31mIndexError\u001b[0m                                Traceback (most recent call last)",
      "\u001b[0;32m<ipython-input-36-556aba76d071>\u001b[0m in \u001b[0;36m<module>\u001b[0;34m\u001b[0m\n\u001b[1;32m      3\u001b[0m     \u001b[0mdailyreturns_col\u001b[0m \u001b[0;34m=\u001b[0m \u001b[0;34m[\u001b[0m\u001b[0;34m]\u001b[0m\u001b[0;34m\u001b[0m\u001b[0;34m\u001b[0m\u001b[0m\n\u001b[1;32m      4\u001b[0m     \u001b[0;32mfor\u001b[0m \u001b[0mday\u001b[0m \u001b[0;32min\u001b[0m \u001b[0mrange\u001b[0m\u001b[0;34m(\u001b[0m\u001b[0mdays_of_data\u001b[0m \u001b[0;34m-\u001b[0m \u001b[0;36m1\u001b[0m\u001b[0;34m,\u001b[0m \u001b[0;34m-\u001b[0m\u001b[0;36m1\u001b[0m\u001b[0;34m,\u001b[0m \u001b[0;34m-\u001b[0m\u001b[0;36m1\u001b[0m\u001b[0;34m)\u001b[0m \u001b[0;34m:\u001b[0m\u001b[0;34m\u001b[0m\u001b[0;34m\u001b[0m\u001b[0m\n\u001b[0;32m----> 5\u001b[0;31m         \u001b[0;32mif\u001b[0m\u001b[0;34m(\u001b[0m\u001b[0mdata1\u001b[0m\u001b[0;34m[\u001b[0m\u001b[0mtkr\u001b[0m\u001b[0;34m]\u001b[0m\u001b[0;34m[\u001b[0m\u001b[0mday\u001b[0m\u001b[0;34m]\u001b[0m\u001b[0;34m.\u001b[0m\u001b[0mo\u001b[0m \u001b[0;34m==\u001b[0m \u001b[0;36m0\u001b[0m\u001b[0;34m)\u001b[0m \u001b[0;34m:\u001b[0m\u001b[0;34m\u001b[0m\u001b[0;34m\u001b[0m\u001b[0m\n\u001b[0m\u001b[1;32m      6\u001b[0m             \u001b[0mdailyreturns_col\u001b[0m\u001b[0;34m.\u001b[0m\u001b[0mappend\u001b[0m\u001b[0;34m(\u001b[0m\u001b[0mnp\u001b[0m\u001b[0;34m.\u001b[0m\u001b[0mnan\u001b[0m\u001b[0;34m)\u001b[0m\u001b[0;34m\u001b[0m\u001b[0;34m\u001b[0m\u001b[0m\n\u001b[1;32m      7\u001b[0m         \u001b[0;32melse\u001b[0m \u001b[0;34m:\u001b[0m\u001b[0;34m\u001b[0m\u001b[0;34m\u001b[0m\u001b[0m\n",
      "\u001b[0;31mIndexError\u001b[0m: list index out of range"
     ]
    }
   ],
   "source": [
    "dailyreturns = pd.DataFrame()\n",
    "for tkr in sp500_tickers[0:99] :\n",
    "    dailyreturns_col = []\n",
    "    for day in range(days_of_data - 1, -1, -1) :\n",
    "        if(data1[tkr][day].o == 0) :\n",
    "            dailyreturns_col.append(np.nan)\n",
    "        else :\n",
    "            dailyreturns_col.append((data1[tkr][day].c - \n",
    "                             data1[tkr][day].o)/\n",
    "                             data1[tkr][day].o)\n",
    "    dailyreturns[tkr] = dailyreturns_col\n",
    "for tkr in sp500_tickers[100:199] :\n",
    "    dailyreturns_col = []\n",
    "    for day in range(days_of_data - 1, -1, -1) :\n",
    "        if(data2[tkr][day].o == 0) :\n",
    "            dailyreturns_col.append(np.nan)\n",
    "        else :\n",
    "            dailyreturns_col.append((data2[tkr][day].c - \n",
    "                             data2[tkr][day].o)/\n",
    "                             data2[tkr][day].o)   \n",
    "    dailyreturns[tkr] = dailyreturns_col\n",
    "for tkr in sp500_tickers[200:299] :\n",
    "    dailyreturns_col = []\n",
    "    for day in range(days_of_data - 1, -1, -1) :\n",
    "        if(data3[tkr][day].o == 0) :\n",
    "            dailyreturns_col.append(np.nan)\n",
    "        else :\n",
    "            dailyreturns_col.append((data3[tkr][day].c - \n",
    "                             data3[tkr][day].o)/\n",
    "                             data3[tkr][day].o)   \n",
    "    dailyreturns[tkr] = dailyreturns_col\n",
    "for tkr in sp500_tickers[300:399] :\n",
    "    dailyreturns_col = []\n",
    "    for day in range(days_of_data - 1, -1, -1) :\n",
    "        if(data4[tkr][day].o == 0) :\n",
    "            dailyreturns_col.append(np.nan)\n",
    "        else :\n",
    "            dailyreturns_col.append((data4[tkr][day].c - \n",
    "                             data4[tkr][day].o)/\n",
    "                             data4[tkr][day].o)   \n",
    "    dailyreturns[tkr] = dailyreturns_col\n",
    "for tkr in sp500_tickers[400:499] :\n",
    "    dailyreturns_col = []\n",
    "    for day in range(days_of_data - 1, -1, -1) :\n",
    "        if(data5[tkr][day].o == 0) :\n",
    "            dailyreturns_col.append(np.nan)\n",
    "        else :\n",
    "            dailyreturns_col.append((data5[tkr][day].c - \n",
    "                             data5[tkr][day].o)/\n",
    "                             data5[tkr][day].o)   \n",
    "    dailyreturns[tkr] = dailyreturns_col"
   ]
  },
  {
   "cell_type": "code",
   "execution_count": 10,
   "metadata": {},
   "outputs": [
    {
     "data": {
      "text/html": [
       "<div>\n",
       "<style scoped>\n",
       "    .dataframe tbody tr th:only-of-type {\n",
       "        vertical-align: middle;\n",
       "    }\n",
       "\n",
       "    .dataframe tbody tr th {\n",
       "        vertical-align: top;\n",
       "    }\n",
       "\n",
       "    .dataframe thead th {\n",
       "        text-align: right;\n",
       "    }\n",
       "</style>\n",
       "<table border=\"1\" class=\"dataframe\">\n",
       "  <thead>\n",
       "    <tr style=\"text-align: right;\">\n",
       "      <th></th>\n",
       "      <th>LHO</th>\n",
       "      <th>NVDA</th>\n",
       "      <th>VKTX</th>\n",
       "      <th>COG</th>\n",
       "      <th>KO</th>\n",
       "    </tr>\n",
       "  </thead>\n",
       "  <tbody>\n",
       "    <tr>\n",
       "      <th>0</th>\n",
       "      <td>-0.013573</td>\n",
       "      <td>-0.033699</td>\n",
       "      <td>0.012421</td>\n",
       "      <td>-0.004932</td>\n",
       "      <td>-0.009402</td>\n",
       "    </tr>\n",
       "    <tr>\n",
       "      <th>1</th>\n",
       "      <td>0.004309</td>\n",
       "      <td>0.051555</td>\n",
       "      <td>0.024115</td>\n",
       "      <td>0.045137</td>\n",
       "      <td>0.026856</td>\n",
       "    </tr>\n",
       "    <tr>\n",
       "      <th>2</th>\n",
       "      <td>-0.022778</td>\n",
       "      <td>-0.039917</td>\n",
       "      <td>-0.020313</td>\n",
       "      <td>0.018144</td>\n",
       "      <td>0.005943</td>\n",
       "    </tr>\n",
       "    <tr>\n",
       "      <th>3</th>\n",
       "      <td>-0.017887</td>\n",
       "      <td>0.046385</td>\n",
       "      <td>0.022500</td>\n",
       "      <td>-0.011893</td>\n",
       "      <td>0.040715</td>\n",
       "    </tr>\n",
       "    <tr>\n",
       "      <th>4</th>\n",
       "      <td>0.015424</td>\n",
       "      <td>-0.049447</td>\n",
       "      <td>0.002069</td>\n",
       "      <td>-0.013537</td>\n",
       "      <td>-0.008263</td>\n",
       "    </tr>\n",
       "    <tr>\n",
       "      <th>...</th>\n",
       "      <td>...</td>\n",
       "      <td>...</td>\n",
       "      <td>...</td>\n",
       "      <td>...</td>\n",
       "      <td>...</td>\n",
       "    </tr>\n",
       "    <tr>\n",
       "      <th>895</th>\n",
       "      <td>0.030838</td>\n",
       "      <td>0.036099</td>\n",
       "      <td>-0.027273</td>\n",
       "      <td>-0.001035</td>\n",
       "      <td>0.008189</td>\n",
       "    </tr>\n",
       "    <tr>\n",
       "      <th>896</th>\n",
       "      <td>-0.020466</td>\n",
       "      <td>0.006399</td>\n",
       "      <td>-0.033824</td>\n",
       "      <td>-0.019300</td>\n",
       "      <td>-0.004164</td>\n",
       "    </tr>\n",
       "    <tr>\n",
       "      <th>897</th>\n",
       "      <td>0.007346</td>\n",
       "      <td>-0.011875</td>\n",
       "      <td>-0.018737</td>\n",
       "      <td>0.001698</td>\n",
       "      <td>-0.011597</td>\n",
       "    </tr>\n",
       "    <tr>\n",
       "      <th>898</th>\n",
       "      <td>-0.014075</td>\n",
       "      <td>0.034293</td>\n",
       "      <td>0.010769</td>\n",
       "      <td>-0.005950</td>\n",
       "      <td>0.019452</td>\n",
       "    </tr>\n",
       "    <tr>\n",
       "      <th>899</th>\n",
       "      <td>0.002428</td>\n",
       "      <td>-0.039161</td>\n",
       "      <td>-0.026449</td>\n",
       "      <td>0.042644</td>\n",
       "      <td>-0.026848</td>\n",
       "    </tr>\n",
       "  </tbody>\n",
       "</table>\n",
       "<p>900 rows × 5 columns</p>\n",
       "</div>"
      ],
      "text/plain": [
       "          LHO      NVDA      VKTX       COG        KO\n",
       "0   -0.013573 -0.033699  0.012421 -0.004932 -0.009402\n",
       "1    0.004309  0.051555  0.024115  0.045137  0.026856\n",
       "2   -0.022778 -0.039917 -0.020313  0.018144  0.005943\n",
       "3   -0.017887  0.046385  0.022500 -0.011893  0.040715\n",
       "4    0.015424 -0.049447  0.002069 -0.013537 -0.008263\n",
       "..        ...       ...       ...       ...       ...\n",
       "895  0.030838  0.036099 -0.027273 -0.001035  0.008189\n",
       "896 -0.020466  0.006399 -0.033824 -0.019300 -0.004164\n",
       "897  0.007346 -0.011875 -0.018737  0.001698 -0.011597\n",
       "898 -0.014075  0.034293  0.010769 -0.005950  0.019452\n",
       "899  0.002428 -0.039161 -0.026449  0.042644 -0.026848\n",
       "\n",
       "[900 rows x 5 columns]"
      ]
     },
     "execution_count": 10,
     "metadata": {},
     "output_type": "execute_result"
    }
   ],
   "source": [
    "dailyreturns"
   ]
  },
  {
   "cell_type": "code",
   "execution_count": 11,
   "metadata": {},
   "outputs": [],
   "source": [
    "#calculate the days between now and the fama french data\n",
    "today = datetime.date.today()\n",
    "ff5end_date = ff5['Date'][0]\n",
    "#presidentsday = [datetime.date(2020, 2, 17)]\n",
    "days_offset = wkdy.networkdays(ff5end_date.date(), today)"
   ]
  },
  {
   "cell_type": "code",
   "execution_count": 13,
   "metadata": {},
   "outputs": [
    {
     "data": {
      "text/plain": [
       "872"
      ]
     },
     "execution_count": 13,
     "metadata": {},
     "output_type": "execute_result"
    }
   ],
   "source": [
    "num_data = days_of_data - days_offset"
   ]
  },
  {
   "cell_type": "code",
   "execution_count": 24,
   "metadata": {},
   "outputs": [],
   "source": [
    "X = pd.DataFrame(ff5[['Mkt-RF','SMB','HML']][0:num_data], columns=['Mkt-RF','SMB','HML'])\n",
    "y = dailyreturns['KO'][days_offset:]"
   ]
  },
  {
   "cell_type": "code",
   "execution_count": 25,
   "metadata": {},
   "outputs": [
    {
     "data": {
      "text/plain": [
       "array([-3.33648530e-04,  5.02798968e-04, -2.19584049e-05])"
      ]
     },
     "execution_count": 25,
     "metadata": {},
     "output_type": "execute_result"
    }
   ],
   "source": [
    "model = LinearRegression().fit(X, y)\n",
    "betas = model.coef_\n",
    "betas"
   ]
  },
  {
   "cell_type": "code",
   "execution_count": null,
   "metadata": {},
   "outputs": [],
   "source": []
  },
  {
   "cell_type": "code",
   "execution_count": 69,
   "metadata": {},
   "outputs": [
    {
     "data": {
      "text/plain": [
       "array([1.     , 0.99995, 0.9999 , ..., 0.9384 , 0.93835, 0.9383 ])"
      ]
     },
     "execution_count": 69,
     "metadata": {},
     "output_type": "execute_result"
    }
   ],
   "source": [
    "\n",
    "weights = np.ones(len(ff5))\n",
    "i = 1\n",
    "for j in range(len(ff5)) :\n",
    "    weights[j] *= i\n",
    "    i -= .00005\n",
    "weights"
   ]
  },
  {
   "cell_type": "code",
   "execution_count": 4,
   "metadata": {},
   "outputs": [
    {
     "data": {
      "text/plain": [
       "[0.035162337662337666, -0.015673701298701298, -0.021566558441558442]"
      ]
     },
     "execution_count": 4,
     "metadata": {},
     "output_type": "execute_result"
    }
   ],
   "source": [
    "factors = ['Mkt-RF','SMB','HML','RMW','CMA']\n",
    "premiums = []\n",
    "for factor in factors :\n",
    "    av = np.average(ff5[factor])\n",
    "    premiums.append(av)\n",
    "premiums"
   ]
  },
  {
   "cell_type": "code",
   "execution_count": 28,
   "metadata": {},
   "outputs": [
    {
     "data": {
      "text/plain": [
       "0.005980860984122728"
      ]
     },
     "execution_count": 28,
     "metadata": {},
     "output_type": "execute_result"
    }
   ],
   "source": [
    "expected_returns = ff5['RF'][0]\n",
    "for i in range(3) :\n",
    "    expected_returns += betas[i]*premiums[i]\n",
    "expected_returns"
   ]
  },
  {
   "cell_type": "code",
   "execution_count": 3,
   "metadata": {},
   "outputs": [],
   "source": [
    "#c of objective funct\n",
    "#A_ub and b_ub\n",
    "num_assets = 5\n",
    "elem_vect = np.ones(num_assets)\n",
    "#solution = opt.linprog(A_eq = elem_vect, b_eq = np.ones(1))"
   ]
  },
  {
   "cell_type": "code",
   "execution_count": 6,
   "metadata": {},
   "outputs": [
    {
     "data": {
      "text/plain": [
       "Order({   'asset_class': 'us_equity',\n",
       "    'asset_id': 'b0b6dd9d-8b9b-48a9-ba46-b9d54906e415',\n",
       "    'canceled_at': None,\n",
       "    'client_order_id': 'a192e8d2-b3b1-4a79-8054-dfd649e61a56',\n",
       "    'created_at': '2020-04-03T21:32:04.784938Z',\n",
       "    'expired_at': None,\n",
       "    'extended_hours': False,\n",
       "    'failed_at': None,\n",
       "    'filled_at': None,\n",
       "    'filled_avg_price': None,\n",
       "    'filled_qty': '0',\n",
       "    'id': '77439e17-4f58-401c-a38c-89029d04868c',\n",
       "    'legs': None,\n",
       "    'limit_price': None,\n",
       "    'order_class': '',\n",
       "    'order_type': 'market',\n",
       "    'qty': '3',\n",
       "    'replaced_at': None,\n",
       "    'replaced_by': None,\n",
       "    'replaces': None,\n",
       "    'side': 'buy',\n",
       "    'status': 'accepted',\n",
       "    'stop_price': None,\n",
       "    'submitted_at': '2020-04-03T21:32:04.777419Z',\n",
       "    'symbol': 'AAPL',\n",
       "    'time_in_force': 'day',\n",
       "    'type': 'market',\n",
       "    'updated_at': '2020-04-03T21:32:04.784938Z'})"
      ]
     },
     "execution_count": 6,
     "metadata": {},
     "output_type": "execute_result"
    }
   ],
   "source": [
    "api.submit_order(symbol = 'AAPL',\n",
    "                 qty = 3,\n",
    "                 side = 'buy',\n",
    "                 type = 'market',\n",
    "                 time_in_force = 'day')"
   ]
  },
  {
   "cell_type": "code",
   "execution_count": null,
   "metadata": {},
   "outputs": [],
   "source": [
    "clock = api.get_clock()\n",
    "if clock.is_open :\n",
    "    #trade away! "
   ]
  },
  {
   "cell_type": "code",
   "execution_count": null,
   "metadata": {},
   "outputs": [],
   "source": []
  },
  {
   "cell_type": "code",
   "execution_count": null,
   "metadata": {},
   "outputs": [],
   "source": []
  },
  {
   "cell_type": "code",
   "execution_count": 7,
   "metadata": {},
   "outputs": [
    {
     "data": {
      "text/plain": [
       "{0:             Mkt-RF   SMB   HML   RMW   CMA     RF\n",
       " Date                                             \n",
       " 2015-03-09    0.37  0.09 -0.02  0.26 -0.03  0.000\n",
       " 2015-03-10   -1.63  0.43 -0.47  0.09 -0.14  0.000\n",
       " 2015-03-11   -0.04  0.62  0.52 -0.47 -0.03  0.000\n",
       " 2015-03-12    1.28  0.40  0.50 -0.06  0.23  0.000\n",
       " 2015-03-13   -0.57  0.19 -0.04 -0.10 -0.13  0.000\n",
       " ...            ...   ...   ...   ...   ...    ...\n",
       " 2020-01-27   -1.56  0.27 -0.48 -0.59  0.05  0.006\n",
       " 2020-01-28    1.02 -0.15 -0.42  0.17 -0.10  0.006\n",
       " 2020-01-29   -0.10 -0.44 -0.95  0.25  0.19  0.006\n",
       " 2020-01-30    0.34 -0.64  0.67 -0.39 -0.11  0.006\n",
       " 2020-01-31   -1.74 -0.52 -0.34 -0.54 -0.69  0.006\n",
       " \n",
       " [1235 rows x 6 columns],\n",
       " 'DESCR': 'F-F Research Data 5 Factors 2x3 daily\\n-------------------------------------\\n\\nThis file was created by CMPT_ME_BEME_OP_INV_RETS_DAILY using the 202001 CRSP database. The 1-month TBill return is from Ibbotson and Associates, Inc.\\n\\n  0 : (1235 rows x 6 cols)'}"
      ]
     },
     "execution_count": 7,
     "metadata": {},
     "output_type": "execute_result"
    }
   ],
   "source": [
    "ff5"
   ]
  },
  {
   "cell_type": "code",
   "execution_count": null,
   "metadata": {},
   "outputs": [],
   "source": []
  },
  {
   "cell_type": "code",
   "execution_count": null,
   "metadata": {},
   "outputs": [],
   "source": []
  }
 ],
 "metadata": {
  "kernelspec": {
   "display_name": "Python 3",
   "language": "python",
   "name": "python3"
  },
  "language_info": {
   "codemirror_mode": {
    "name": "ipython",
    "version": 3
   },
   "file_extension": ".py",
   "mimetype": "text/x-python",
   "name": "python",
   "nbconvert_exporter": "python",
   "pygments_lexer": "ipython3",
   "version": "3.6.9"
  }
 },
 "nbformat": 4,
 "nbformat_minor": 4
}
